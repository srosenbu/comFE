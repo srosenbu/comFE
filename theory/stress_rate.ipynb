{
 "cells": [
  {
   "cell_type": "markdown",
   "id": "12858fd3",
   "metadata": {},
   "source": [
    "# Derivation of an efficient implementation of the Jaumann stress rate"
   ]
  },
  {
   "cell_type": "code",
   "execution_count": 1,
   "id": "e4fd8b9b",
   "metadata": {},
   "outputs": [],
   "source": [
    "import sympy"
   ]
  },
  {
   "cell_type": "code",
   "execution_count": 47,
   "id": "856178a8",
   "metadata": {},
   "outputs": [],
   "source": [
    "l11, l12, l13, l21, l22, l23, l31, l32, l33 = sympy.symbols(\"l_11, l_12, l_13, l_21, l_22, l_23, l_31, l_32, l_33\")\n",
    "d11, d12, d13, d21, d22, d23, d31, d32, d33 = sympy.symbols(\"d_11, d_12, d_13, d_21, d_22, d_23, d_31, d_32, d_33\")\n",
    "s11, s12, s13, s21, s22, s23, s31, s32, s33 = sympy.symbols(\"\\sigma_11, \\sigma_12, \\sigma_13, \\sigma_21, \\sigma_22, \\sigma_23, \\sigma_31, \\sigma_32, \\sigma_33\")\n",
    "sm1, sm2, sm3, sm4, sm5, sm6 = sympy.symbols(\"\\sigma_1^m, \\sigma_2^m, \\sigma_3^m, \\sigma_4^m, \\sigma_5^m, \\sigma_6^m\")\n",
    "del_t = sympy.symbols(\"\\Delta t\")\n",
    "L = sympy.Matrix([[l11, l12, l13], [l21, l22, l23], [l31, l32, l33]])\n",
    "sigma = sympy.Matrix([[s11, s12, s13],[s12, s22, s23],[s13, s23, s33]])\n",
    "sigma_mandel = sympy.Matrix([sm1,sm2,sm3,sm4,sm5,sm6])"
   ]
  },
  {
   "cell_type": "code",
   "execution_count": 10,
   "id": "8318b393",
   "metadata": {},
   "outputs": [
    {
     "data": {
      "text/latex": [
       "$\\displaystyle \\left[\\begin{matrix}l_{11} & l_{12} & l_{13}\\\\l_{21} & l_{22} & l_{23}\\\\l_{31} & l_{32} & l_{33}\\end{matrix}\\right]$"
      ],
      "text/plain": [
       "Matrix([\n",
       "[l_11, l_12, l_13],\n",
       "[l_21, l_22, l_23],\n",
       "[l_31, l_32, l_33]])"
      ]
     },
     "execution_count": 10,
     "metadata": {},
     "output_type": "execute_result"
    }
   ],
   "source": [
    "L"
   ]
  },
  {
   "cell_type": "code",
   "execution_count": 11,
   "id": "c4a7104a",
   "metadata": {},
   "outputs": [
    {
     "data": {
      "text/latex": [
       "$\\displaystyle \\left[\\begin{matrix}\\sigma_{11} & \\sigma_{12} & \\sigma_{13}\\\\\\sigma_{12} & \\sigma_{22} & \\sigma_{23}\\\\\\sigma_{13} & \\sigma_{23} & \\sigma_{33}\\end{matrix}\\right]$"
      ],
      "text/plain": [
       "Matrix([\n",
       "[\\sigma_11, \\sigma_12, \\sigma_13],\n",
       "[\\sigma_12, \\sigma_22, \\sigma_23],\n",
       "[\\sigma_13, \\sigma_23, \\sigma_33]])"
      ]
     },
     "execution_count": 11,
     "metadata": {},
     "output_type": "execute_result"
    }
   ],
   "source": [
    "sigma"
   ]
  },
  {
   "cell_type": "code",
   "execution_count": 48,
   "id": "997d8417",
   "metadata": {},
   "outputs": [
    {
     "data": {
      "text/latex": [
       "$\\displaystyle \\left[\\begin{matrix}\\sigma^{m}_{1}\\\\\\sigma^{m}_{2}\\\\\\sigma^{m}_{3}\\\\\\sigma^{m}_{4}\\\\\\sigma^{m}_{5}\\\\\\sigma^{m}_{6}\\end{matrix}\\right]$"
      ],
      "text/plain": [
       "Matrix([\n",
       "[\\sigma_1^m],\n",
       "[\\sigma_2^m],\n",
       "[\\sigma_3^m],\n",
       "[\\sigma_4^m],\n",
       "[\\sigma_5^m],\n",
       "[\\sigma_6^m]])"
      ]
     },
     "execution_count": 48,
     "metadata": {},
     "output_type": "execute_result"
    }
   ],
   "source": [
    "sigma_mandel"
   ]
  },
  {
   "cell_type": "code",
   "execution_count": 17,
   "id": "a79f16c3",
   "metadata": {},
   "outputs": [
    {
     "data": {
      "text/latex": [
       "$\\displaystyle \\left[\\begin{matrix}0 & \\frac{l_{12}}{2} - \\frac{l_{21}}{2} & \\frac{l_{13}}{2} - \\frac{l_{31}}{2}\\\\- \\frac{l_{12}}{2} + \\frac{l_{21}}{2} & 0 & \\frac{l_{23}}{2} - \\frac{l_{32}}{2}\\\\- \\frac{l_{13}}{2} + \\frac{l_{31}}{2} & - \\frac{l_{23}}{2} + \\frac{l_{32}}{2} & 0\\end{matrix}\\right]$"
      ],
      "text/plain": [
       "Matrix([\n",
       "[               0,  l_12/2 - l_21/2, l_13/2 - l_31/2],\n",
       "[-l_12/2 + l_21/2,                0, l_23/2 - l_32/2],\n",
       "[-l_13/2 + l_31/2, -l_23/2 + l_32/2,               0]])"
      ]
     },
     "execution_count": 17,
     "metadata": {},
     "output_type": "execute_result"
    }
   ],
   "source": [
    "W = (L-L.T)/2\n",
    "W"
   ]
  },
  {
   "cell_type": "code",
   "execution_count": 19,
   "id": "3e4b87f7",
   "metadata": {},
   "outputs": [
    {
     "data": {
      "text/latex": [
       "$\\displaystyle \\left[\\begin{matrix}l_{11} & \\frac{l_{12}}{2} + \\frac{l_{21}}{2} & \\frac{l_{13}}{2} + \\frac{l_{31}}{2}\\\\\\frac{l_{12}}{2} + \\frac{l_{21}}{2} & l_{22} & \\frac{l_{23}}{2} + \\frac{l_{32}}{2}\\\\\\frac{l_{13}}{2} + \\frac{l_{31}}{2} & \\frac{l_{23}}{2} + \\frac{l_{32}}{2} & l_{33}\\end{matrix}\\right]$"
      ],
      "text/plain": [
       "Matrix([\n",
       "[           l_11, l_12/2 + l_21/2, l_13/2 + l_31/2],\n",
       "[l_12/2 + l_21/2,            l_22, l_23/2 + l_32/2],\n",
       "[l_13/2 + l_31/2, l_23/2 + l_32/2,            l_33]])"
      ]
     },
     "execution_count": 19,
     "metadata": {},
     "output_type": "execute_result"
    }
   ],
   "source": [
    "D = (L+L.T)/2\n",
    "D"
   ]
  },
  {
   "cell_type": "code",
   "execution_count": 52,
   "id": "9bec3da0",
   "metadata": {},
   "outputs": [],
   "source": [
    "def to_mandel(M):\n",
    "    sqrt = sympy.sqrt(2)\n",
    "    return sympy.Matrix([M[0,0], M[1,1], M[2,2], sqrt*M[1,2], sqrt*M[0,2], sqrt*M[0,1]])\n",
    "\n",
    "def to_tensor(mandel):\n",
    "    sqrt = 1/sympy.sqrt(2)\n",
    "    return sympy.Matrix([\n",
    "        [mandel[0], sqrt*mandel[5], sqrt*mandel[4]],\n",
    "        [sqrt*mandel[5], mandel[1], sqrt*mandel[3]],\n",
    "        [sqrt*mandel[4], sqrt*mandel[3], mandel[2]]\n",
    "    ])"
   ]
  },
  {
   "cell_type": "markdown",
   "id": "caeeb12b",
   "metadata": {},
   "source": [
    "## Strain rate in Mandel form\n",
    "\n",
    "$D=0.5\\cdot(L+L^\\top)$ is often referred to as the strain rate which we want to provide in Mandel form without calculating $D$ inthe first place:"
   ]
  },
  {
   "cell_type": "code",
   "execution_count": 34,
   "id": "481a3a4a",
   "metadata": {},
   "outputs": [
    {
     "data": {
      "text/latex": [
       "$\\displaystyle \\left[\\begin{matrix}l_{11}\\\\l_{22}\\\\l_{33}\\\\\\frac{\\sqrt{2} \\left(l_{23} + l_{32}\\right)}{2}\\\\\\frac{\\sqrt{2} \\left(l_{13} + l_{31}\\right)}{2}\\\\\\frac{\\sqrt{2} \\left(l_{12} + l_{21}\\right)}{2}\\end{matrix}\\right]$"
      ],
      "text/plain": [
       "Matrix([\n",
       "[                   l_11],\n",
       "[                   l_22],\n",
       "[                   l_33],\n",
       "[sqrt(2)*(l_23 + l_32)/2],\n",
       "[sqrt(2)*(l_13 + l_31)/2],\n",
       "[sqrt(2)*(l_12 + l_21)/2]])"
      ]
     },
     "execution_count": 34,
     "metadata": {},
     "output_type": "execute_result"
    }
   ],
   "source": [
    "sympy.simplify(to_mandel(D))"
   ]
  },
  {
   "cell_type": "markdown",
   "id": "2bd0ae70",
   "metadata": {},
   "source": [
    "## Rotation of stresses\n",
    "\n",
    "We want to apply the Jaumann stress rate on a Stress vector in Mandel form without constructing the full stress tensor and also maybe not constructing $W=0.5\\cdot(L-L^\\top)$"
   ]
  },
  {
   "cell_type": "code",
   "execution_count": 61,
   "id": "465caa95",
   "metadata": {},
   "outputs": [
    {
     "data": {
      "text/latex": [
       "$\\displaystyle \\left[\\begin{matrix}\\frac{\\sqrt{2} \\left(\\sigma^{m}_{5} \\left(l_{13} - l_{31}\\right) + \\sigma^{m}_{6} \\left(l_{12} - l_{21}\\right)\\right)}{2}\\\\\\frac{\\sqrt{2} \\left(\\sigma^{m}_{4} \\left(l_{23} - l_{32}\\right) - \\sigma^{m}_{6} \\left(l_{12} - l_{21}\\right)\\right)}{2}\\\\\\frac{\\sqrt{2} \\left(- \\sigma^{m}_{4} \\left(l_{23} - l_{32}\\right) - \\sigma^{m}_{5} \\left(l_{13} - l_{31}\\right)\\right)}{2}\\\\\\frac{\\sqrt{2} \\left(- 2 \\sigma^{m}_{2} \\left(l_{23} - l_{32}\\right) + 2 \\sigma^{m}_{3} \\left(l_{23} - l_{32}\\right) - \\sqrt{2} \\sigma^{m}_{5} \\left(l_{12} - l_{21}\\right) - \\sqrt{2} \\sigma^{m}_{6} \\left(l_{13} - l_{31}\\right)\\right)}{4}\\\\\\frac{\\sqrt{2} \\left(- 2 \\sigma^{m}_{1} \\left(l_{13} - l_{31}\\right) + 2 \\sigma^{m}_{3} \\left(l_{13} - l_{31}\\right) + \\sqrt{2} \\sigma^{m}_{4} \\left(l_{12} - l_{21}\\right) - \\sqrt{2} \\sigma^{m}_{6} \\left(l_{23} - l_{32}\\right)\\right)}{4}\\\\\\frac{\\sqrt{2} \\left(- 2 \\sigma^{m}_{1} \\left(l_{12} - l_{21}\\right) + 2 \\sigma^{m}_{2} \\left(l_{12} - l_{21}\\right) + \\sqrt{2} \\sigma^{m}_{4} \\left(l_{13} - l_{31}\\right) + \\sqrt{2} \\sigma^{m}_{5} \\left(l_{23} - l_{32}\\right)\\right)}{4}\\end{matrix}\\right]$"
      ],
      "text/plain": [
       "Matrix([\n",
       "[                                                                           sqrt(2)*(\\sigma_5^m*(l_13 - l_31) + \\sigma_6^m*(l_12 - l_21))/2],\n",
       "[                                                                           sqrt(2)*(\\sigma_4^m*(l_23 - l_32) - \\sigma_6^m*(l_12 - l_21))/2],\n",
       "[                                                                          sqrt(2)*(-\\sigma_4^m*(l_23 - l_32) - \\sigma_5^m*(l_13 - l_31))/2],\n",
       "[sqrt(2)*(-2*\\sigma_2^m*(l_23 - l_32) + 2*\\sigma_3^m*(l_23 - l_32) - sqrt(2)*\\sigma_5^m*(l_12 - l_21) - sqrt(2)*\\sigma_6^m*(l_13 - l_31))/4],\n",
       "[sqrt(2)*(-2*\\sigma_1^m*(l_13 - l_31) + 2*\\sigma_3^m*(l_13 - l_31) + sqrt(2)*\\sigma_4^m*(l_12 - l_21) - sqrt(2)*\\sigma_6^m*(l_23 - l_32))/4],\n",
       "[sqrt(2)*(-2*\\sigma_1^m*(l_12 - l_21) + 2*\\sigma_2^m*(l_12 - l_21) + sqrt(2)*\\sigma_4^m*(l_13 - l_31) + sqrt(2)*\\sigma_5^m*(l_23 - l_32))/4]])"
      ]
     },
     "execution_count": 61,
     "metadata": {},
     "output_type": "execute_result"
    }
   ],
   "source": [
    "W_sigma= W * to_tensor(sigma_mandel)\n",
    "del_sigma = to_mandel(W_sigma+W_sigma.T)\n",
    "sympy.simplify(del_sigma)"
   ]
  },
  {
   "cell_type": "markdown",
   "id": "215d9781",
   "metadata": {},
   "source": [
    "For a better view we multiply by $\\sqrt 2$ which yields"
   ]
  },
  {
   "cell_type": "code",
   "execution_count": 63,
   "id": "d91b4bca",
   "metadata": {},
   "outputs": [
    {
     "data": {
      "text/latex": [
       "$\\displaystyle \\left[\\begin{matrix}\\sigma^{m}_{5} \\left(l_{13} - l_{31}\\right) + \\sigma^{m}_{6} \\left(l_{12} - l_{21}\\right)\\\\\\sigma^{m}_{4} \\left(l_{23} - l_{32}\\right) - \\sigma^{m}_{6} \\left(l_{12} - l_{21}\\right)\\\\- \\sigma^{m}_{4} \\left(l_{23} - l_{32}\\right) - \\sigma^{m}_{5} \\left(l_{13} - l_{31}\\right)\\\\- \\sigma^{m}_{2} \\left(l_{23} - l_{32}\\right) + \\sigma^{m}_{3} \\left(l_{23} - l_{32}\\right) - \\frac{\\sqrt{2} \\sigma^{m}_{5} \\left(l_{12} - l_{21}\\right)}{2} - \\frac{\\sqrt{2} \\sigma^{m}_{6} \\left(l_{13} - l_{31}\\right)}{2}\\\\- \\sigma^{m}_{1} \\left(l_{13} - l_{31}\\right) + \\sigma^{m}_{3} \\left(l_{13} - l_{31}\\right) + \\frac{\\sqrt{2} \\sigma^{m}_{4} \\left(l_{12} - l_{21}\\right)}{2} - \\frac{\\sqrt{2} \\sigma^{m}_{6} \\left(l_{23} - l_{32}\\right)}{2}\\\\- \\sigma^{m}_{1} \\left(l_{12} - l_{21}\\right) + \\sigma^{m}_{2} \\left(l_{12} - l_{21}\\right) + \\frac{\\sqrt{2} \\sigma^{m}_{4} \\left(l_{13} - l_{31}\\right)}{2} + \\frac{\\sqrt{2} \\sigma^{m}_{5} \\left(l_{23} - l_{32}\\right)}{2}\\end{matrix}\\right]$"
      ],
      "text/plain": [
       "Matrix([\n",
       "[                                                                           \\sigma_5^m*(l_13 - l_31) + \\sigma_6^m*(l_12 - l_21)],\n",
       "[                                                                           \\sigma_4^m*(l_23 - l_32) - \\sigma_6^m*(l_12 - l_21)],\n",
       "[                                                                          -\\sigma_4^m*(l_23 - l_32) - \\sigma_5^m*(l_13 - l_31)],\n",
       "[-\\sigma_2^m*(l_23 - l_32) + \\sigma_3^m*(l_23 - l_32) - sqrt(2)*\\sigma_5^m*(l_12 - l_21)/2 - sqrt(2)*\\sigma_6^m*(l_13 - l_31)/2],\n",
       "[-\\sigma_1^m*(l_13 - l_31) + \\sigma_3^m*(l_13 - l_31) + sqrt(2)*\\sigma_4^m*(l_12 - l_21)/2 - sqrt(2)*\\sigma_6^m*(l_23 - l_32)/2],\n",
       "[-\\sigma_1^m*(l_12 - l_21) + \\sigma_2^m*(l_12 - l_21) + sqrt(2)*\\sigma_4^m*(l_13 - l_31)/2 + sqrt(2)*\\sigma_5^m*(l_23 - l_32)/2]])"
      ]
     },
     "execution_count": 63,
     "metadata": {},
     "output_type": "execute_result"
    }
   ],
   "source": [
    "sympy.simplify(del_sigma)*sympy.sqrt(2)"
   ]
  },
  {
   "cell_type": "markdown",
   "id": "a34ad2b3",
   "metadata": {},
   "source": [
    "Note, that from $L$, only the differences $[l_{12}-l_{21},l_{13}-l_{31}, l_{23}-l_{32}]$ are needed which should give an additional speedup compared to computing $W$ explicitely."
   ]
  },
  {
   "cell_type": "code",
   "execution_count": null,
   "id": "51c6627b",
   "metadata": {},
   "outputs": [],
   "source": []
  }
 ],
 "metadata": {
  "kernelspec": {
   "display_name": "Python 3 (ipykernel)",
   "language": "python",
   "name": "python3"
  },
  "language_info": {
   "codemirror_mode": {
    "name": "ipython",
    "version": 3
   },
   "file_extension": ".py",
   "mimetype": "text/x-python",
   "name": "python",
   "nbconvert_exporter": "python",
   "pygments_lexer": "ipython3",
   "version": "3.10.6"
  }
 },
 "nbformat": 4,
 "nbformat_minor": 5
}
